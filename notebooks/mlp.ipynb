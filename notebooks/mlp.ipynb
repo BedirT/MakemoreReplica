{
 "cells": [
  {
   "cell_type": "code",
   "execution_count": 187,
   "metadata": {},
   "outputs": [],
   "source": [
    "import torch\n",
    "import torch.nn.functional as F\n",
    "import matplotlib.pyplot as plt\n",
    "%matplotlib inline"
   ]
  },
  {
   "cell_type": "code",
   "execution_count": 188,
   "metadata": {},
   "outputs": [],
   "source": [
    "\n",
    "def parse_data_new() -> list:\n",
    "    file_name = '../data/names_new.csv'\n",
    "    with open(file_name, 'r') as f:\n",
    "        data = f.read().splitlines()\n",
    "    return [d.split(',')[0] for d in data]\n",
    "\n",
    "def setup_data(data) -> tuple:\n",
    "    clean_data = []\n",
    "    valid_chars = 'âabcçdefgğhıiîjklmnoöprsştuüûvyz'\n",
    "    for name in data:\n",
    "        name = name.replace('İ', 'i') # Capital İ is two chars in ascii\n",
    "        if all([c in valid_chars for c in name.lower()]):\n",
    "            clean_data.append(name.lower())\n",
    "    new_data = clean_data\n",
    "\n",
    "    itos = {i+1:c for i, c in enumerate(valid_chars)}\n",
    "    itos[0] = '.' # start and end token\n",
    "    stoi = {c:i for i, c in itos.items()}\n",
    "\n",
    "    return new_data, itos, stoi\n",
    "\n",
    "data, itos, stoi = setup_data(parse_data_new())"
   ]
  },
  {
   "cell_type": "markdown",
   "metadata": {},
   "source": [
    "# Trial-Error / Going with the video"
   ]
  },
  {
   "cell_type": "code",
   "execution_count": 3,
   "metadata": {},
   "outputs": [],
   "source": [
    "block_size = 3\n",
    "xs, ys = [], [] \n",
    "for word in data:\n",
    "    context = [0] * block_size\n",
    "    for ch in word + '.':\n",
    "        idx = stoi[ch]\n",
    "        xs.append(context)\n",
    "        ys.append(idx)\n",
    "        # print(''.join(itos[i] for i in context), '-->', itos[idx])\n",
    "        context = context[1:] + [idx]\n",
    "xs = torch.tensor(xs)\n",
    "ys = torch.tensor(ys)"
   ]
  },
  {
   "cell_type": "code",
   "execution_count": null,
   "metadata": {},
   "outputs": [],
   "source": [
    "C = torch.randn((len(stoi), 2)) # 2D"
   ]
  },
  {
   "cell_type": "code",
   "execution_count": null,
   "metadata": {},
   "outputs": [],
   "source": [
    "C[5] # weights for idx 5"
   ]
  },
  {
   "cell_type": "code",
   "execution_count": null,
   "metadata": {},
   "outputs": [],
   "source": [
    "F.one_hot(torch.tensor(5), num_classes=len(stoi)).float() @ C # weights for idx 5 retrieved with one hot representation"
   ]
  },
  {
   "cell_type": "code",
   "execution_count": null,
   "metadata": {},
   "outputs": [],
   "source": [
    "xs[5], C[xs[5]]"
   ]
  },
  {
   "cell_type": "code",
   "execution_count": null,
   "metadata": {},
   "outputs": [],
   "source": [
    "C[xs][0] # Weights for data point xs[0]\n",
    "xs[0].float() @ C[xs][0] # multiplying inputs with corresponding weights\n"
   ]
  },
  {
   "cell_type": "code",
   "execution_count": null,
   "metadata": {},
   "outputs": [],
   "source": [
    "emb = C[xs]\n",
    "emb.shape"
   ]
  },
  {
   "cell_type": "code",
   "execution_count": null,
   "metadata": {},
   "outputs": [],
   "source": [
    "# Constructing hidden layer\n",
    "num_hidden_neurons = 100\n",
    "W1 = torch.randn((emb.shape[1] * emb.shape[2], num_hidden_neurons)) # 3x2 = 6\n",
    "b1 = torch.randn(num_hidden_neurons)"
   ]
  },
  {
   "cell_type": "code",
   "execution_count": null,
   "metadata": {},
   "outputs": [],
   "source": [
    "# inefficient methods for plucking the embeddings to make it shaped (x, 6)\n",
    "torch.cat([emb[:, 0, :], emb[:, 1, :], emb[:, 2, :]], 1).shape\n",
    "torch.cat(torch.unbind(emb, 1), 1).shape"
   ]
  },
  {
   "cell_type": "code",
   "execution_count": null,
   "metadata": {},
   "outputs": [],
   "source": [
    "# Calculating the hidden layer actv\n",
    "h = torch.tanh(emb.view(-1, emb.shape[1] * emb.shape[2]) @ W1 + b1)\n",
    "h"
   ]
  },
  {
   "cell_type": "code",
   "execution_count": null,
   "metadata": {},
   "outputs": [],
   "source": [
    "# Output layer Weights and biases\n",
    "W2 = torch.randn((num_hidden_neurons, len(stoi)))\n",
    "b2 = torch.randn(len(stoi))"
   ]
  },
  {
   "cell_type": "code",
   "execution_count": null,
   "metadata": {},
   "outputs": [],
   "source": [
    "logits = h @ W2 + b2\n",
    "logits.shape"
   ]
  },
  {
   "cell_type": "code",
   "execution_count": null,
   "metadata": {},
   "outputs": [],
   "source": [
    "counts = logits.exp()\n",
    "probs = counts / counts.sum(dim=1, keepdims=True)"
   ]
  },
  {
   "cell_type": "code",
   "execution_count": null,
   "metadata": {},
   "outputs": [],
   "source": [
    "probs.shape"
   ]
  },
  {
   "cell_type": "code",
   "execution_count": null,
   "metadata": {},
   "outputs": [],
   "source": [
    "pred = probs[torch.arange(len(xs)), ys]"
   ]
  },
  {
   "cell_type": "markdown",
   "metadata": {},
   "source": [
    "# Clean version"
   ]
  },
  {
   "cell_type": "code",
   "execution_count": 191,
   "metadata": {},
   "outputs": [],
   "source": [
    "# Hyper-parameters here\n",
    "block_size = 5\n",
    "num_dimensions = 10\n",
    "num_hidden_neurons = 300\n",
    "num_epochs = 200000\n",
    "minibatch_size = 128"
   ]
  },
  {
   "cell_type": "code",
   "execution_count": 192,
   "metadata": {},
   "outputs": [],
   "source": [
    "def build_dataset(words, block_size=3):\n",
    "    xs, ys = [], [] \n",
    "    for word in words:\n",
    "        context = [0] * block_size\n",
    "        for ch in word + '.':\n",
    "            idx = stoi[ch]\n",
    "            xs.append(context)\n",
    "            ys.append(idx)\n",
    "            # print(''.join(itos[i] for i in context), '-->', itos[idx])\n",
    "            context = context[1:] + [idx]\n",
    "    xs = torch.tensor(xs)\n",
    "    ys = torch.tensor(ys)\n",
    "    return xs, ys\n",
    "\n",
    "import random\n",
    "random.shuffle(data)\n",
    "n1 = int(0.8 * len(data))\n",
    "n2 = int(0.9 * len(data))\n",
    "x_train, y_train = build_dataset(data[:n1],block_size)\n",
    "x_val, y_val = build_dataset(data[n1:n2],block_size)\n",
    "x_test, y_test = build_dataset(data[n2:],block_size)"
   ]
  },
  {
   "cell_type": "code",
   "execution_count": 193,
   "metadata": {},
   "outputs": [],
   "source": [
    "# Cleaned version\n",
    "g = torch.Generator().manual_seed(2147483647)\n",
    "\n",
    "# Setting up parameters\n",
    "C = torch.randn((len(stoi), num_dimensions), generator=g)\n",
    "    \n",
    "W1 = torch.randn((num_dimensions * block_size, num_hidden_neurons), generator=g)\n",
    "b1 = torch.randn(num_hidden_neurons, generator=g)\n",
    "\n",
    "W2 = torch.randn((num_hidden_neurons, len(stoi)), generator=g)\n",
    "b2 = torch.randn(len(stoi), generator=g)\n",
    "\n",
    "parameters = [C, W1, b1, W2, b2]"
   ]
  },
  {
   "cell_type": "code",
   "execution_count": 194,
   "metadata": {},
   "outputs": [
    {
     "data": {
      "text/plain": [
       "25563"
      ]
     },
     "execution_count": 194,
     "metadata": {},
     "output_type": "execute_result"
    }
   ],
   "source": [
    "# Total number of parameters\n",
    "sum(p.nelement() for p in parameters)"
   ]
  },
  {
   "cell_type": "code",
   "execution_count": 195,
   "metadata": {},
   "outputs": [],
   "source": [
    "for p in parameters:\n",
    "    p.requires_grad = True"
   ]
  },
  {
   "cell_type": "code",
   "execution_count": 196,
   "metadata": {},
   "outputs": [],
   "source": [
    "# Determining step size\n",
    "lre = torch.linspace(-3, 0, 1000)\n",
    "lrs = 10 ** lre\n",
    "\n",
    "# Examining learning rate\n",
    "lri = []\n",
    "loss_i = []\n",
    "step_i = []\n"
   ]
  },
  {
   "cell_type": "code",
   "execution_count": 197,
   "metadata": {},
   "outputs": [
    {
     "name": "stdout",
     "output_type": "stream",
     "text": [
      "Final Loss 2.0069475173950195175\n"
     ]
    }
   ],
   "source": [
    "# Why minibatch is better:\n",
    "#   Its better to use approximate gradient and take more steps\n",
    "#   than to take less steps towards exact gradient\n",
    "\n",
    "for e in range(num_epochs): \n",
    "\n",
    "    # Getting minibatches\n",
    "    idx = torch.randint(0, x_train.shape[0], (minibatch_size,))\n",
    "\n",
    "    # Forward pass\n",
    "    emb = C[x_train[idx]]\n",
    "    h = torch.tanh(emb.view(-1, emb.shape[1] * emb.shape[2]) @ W1 + b1)\n",
    "    logits = h @ W2 + b2\n",
    "    loss = F.cross_entropy(logits, y_train[idx])\n",
    "    print(f\"Epoch {e}:\\t{loss.item()}\", end='\\r')\n",
    "\n",
    "    # Backward Pass\n",
    "    for p in parameters:\n",
    "        p.grad = None\n",
    "    loss.backward()\n",
    "\n",
    "    # Update\n",
    "    # lr = lrs[e]\n",
    "    lr = 0.1 if e < num_epochs / 2 else 0.01\n",
    "    for p in parameters:\n",
    "        p.data += -lr * p.grad\n",
    "\n",
    "    # Stat track for lr\n",
    "    # lri.append(lre[e]) \n",
    "    loss_i.append(loss.log10().item())\n",
    "    step_i.append(e)"
   ]
  },
  {
   "cell_type": "code",
   "execution_count": 198,
   "metadata": {},
   "outputs": [
    {
     "name": "stdout",
     "output_type": "stream",
     "text": [
      "Train Loss 2.0069475173950195\n"
     ]
    }
   ],
   "source": [
    "# Train loss of all the data\n",
    "emb = C[x_train]\n",
    "h = torch.tanh(emb.view(-1, emb.shape[1] * emb.shape[2]) @ W1 + b1)\n",
    "logits = h @ W2 + b2\n",
    "loss = F.cross_entropy(logits, y_train)\n",
    "print(f\"Train Loss {loss}\")"
   ]
  },
  {
   "cell_type": "code",
   "execution_count": 199,
   "metadata": {},
   "outputs": [
    {
     "name": "stdout",
     "output_type": "stream",
     "text": [
      "Validation Loss 2.1850221157073975\n"
     ]
    }
   ],
   "source": [
    "emb = C[x_val]\n",
    "h = torch.tanh(emb.view(-1, emb.shape[1] * emb.shape[2]) @ W1 + b1)\n",
    "logits = h @ W2 + b2\n",
    "loss = F.cross_entropy(logits, y_val)\n",
    "print(f\"Validation Loss {loss}\")"
   ]
  },
  {
   "cell_type": "code",
   "execution_count": 183,
   "metadata": {},
   "outputs": [
    {
     "data": {
      "text/plain": [
       "[<matplotlib.lines.Line2D at 0x7f3cd8030ac0>]"
      ]
     },
     "execution_count": 183,
     "metadata": {},
     "output_type": "execute_result"
    },
    {
     "data": {
      "image/png": "[encoded data removed]",
      "text/plain": [
       "<Figure size 432x288 with 1 Axes>"
      ]
     },
     "metadata": {
      "needs_background": "light"
     },
     "output_type": "display_data"
    }
   ],
   "source": [
    "plt.plot(step_i[1:], loss_i)"
   ]
  },
  {
   "cell_type": "code",
   "execution_count": 133,
   "metadata": {},
   "outputs": [
    {
     "data": {
      "image/png": "[encoded data removed]",
      "text/plain": [
       "<Figure size 576x576 with 1 Axes>"
      ]
     },
     "metadata": {
      "needs_background": "light"
     },
     "output_type": "display_data"
    }
   ],
   "source": [
    "plt.figure(figsize=(8,8))\n",
    "plt.scatter(C[:, 0].data, C[:, 1].data, s=200)\n",
    "for i in range(C.shape[0]):\n",
    "    plt.text(C[i, 0].item(), C[i, 1].item(), itos[i], ha=\"center\", va=\"center\", color=\"white\")\n",
    "plt.grid(\"minor\")"
   ]
  },
  {
   "cell_type": "code",
   "execution_count": 113,
   "metadata": {},
   "outputs": [
    {
     "data": {
      "text/plain": [
       "[<matplotlib.lines.Line2D at 0x7f3cd854fd90>]"
      ]
     },
     "execution_count": 113,
     "metadata": {},
     "output_type": "execute_result"
    },
    {
     "data": {
      "image/png": "[encoded data removed]",
      "text/plain": [
       "<Figure size 432x288 with 1 Axes>"
      ]
     },
     "metadata": {
      "needs_background": "light"
     },
     "output_type": "display_data"
    }
   ],
   "source": [
    "plt.plot(step_i, loss_i)"
   ]
  },
  {
   "cell_type": "code",
   "execution_count": 204,
   "metadata": {},
   "outputs": [
    {
     "name": "stdout",
     "output_type": "stream",
     "text": [
      "sener\n",
      "samime\n",
      "ayralıle\n",
      "racin\n",
      "tubimtil\n",
      "adın\n",
      "kızacin\n",
      "erksan\n",
      "akyse\n",
      "dimeddin\n",
      "fehinati\n",
      "limat\n",
      "haşhent\n",
      "azat\n",
      "züallâ\n",
      "mihzi\n",
      "mührezana\n",
      "meyşunur\n",
      "bahrugümay\n",
      "ferizkin\n"
     ]
    }
   ],
   "source": [
    "# Sampling from the model\n",
    "num_samples = 20\n",
    "for _ in range(num_samples):\n",
    "    out = ''\n",
    "    context = [0] * block_size\n",
    "    while True:\n",
    "        emb = C[torch.tensor([context])]\n",
    "        h = torch.tanh(emb.view(1, -1) @ W1 + b1)\n",
    "        logits = h @ W2 + b2\n",
    "        probs = F.softmax(logits, dim=1)\n",
    "        idx = torch.multinomial(probs, 1).item()\n",
    "        context = context[1:] + [idx]\n",
    "        if idx == 0:\n",
    "            break\n",
    "        out += itos[idx]\n",
    "    print(out)"
   ]
  },
  {
   "cell_type": "code",
   "execution_count": null,
   "metadata": {},
   "outputs": [],
   "source": []
  }
 ],
 "metadata": {
  "kernelspec": {
   "display_name": "Python 3.9.13 64-bit",
   "language": "python",
   "name": "python3"
  },
  "language_info": {
   "codemirror_mode": {
    "name": "ipython",
    "version": 3
   },
   "file_extension": ".py",
   "mimetype": "text/x-python",
   "name": "python",
   "nbconvert_exporter": "python",
   "pygments_lexer": "ipython3",
   "version": "3.10.7"
  },
  "orig_nbformat": 4,
  "vscode": {
   "interpreter": {
    "hash": "aee8b7b246df8f9039afb4144a1f6fd8d2ca17a180786b69acc140d282b71a49"
   }
  }
 },
 "nbformat": 4,
 "nbformat_minor": 2
}
